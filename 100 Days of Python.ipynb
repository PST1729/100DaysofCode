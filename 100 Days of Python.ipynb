{
 "cells": [
  {
   "cell_type": "raw",
   "id": "6d50a069",
   "metadata": {},
   "source": [
    "# 15 - 06 - 2023"
   ]
  },
  {
   "cell_type": "markdown",
   "id": "f91c23db",
   "metadata": {},
   "source": [
    "Day 1 - https://replit.com/@codewithharry/01-Day1-Intro-to-Python#main.py "
   ]
  },
  {
   "cell_type": "raw",
   "id": "2026ea91",
   "metadata": {},
   "source": [
    "REPL - READ EVALUATE PRINT LOOP"
   ]
  },
  {
   "cell_type": "code",
   "execution_count": 1,
   "id": "9819abca",
   "metadata": {},
   "outputs": [
    {
     "name": "stdout",
     "output_type": "stream",
     "text": [
      "hello world\n"
     ]
    }
   ],
   "source": [
    "print(\"hello world\")"
   ]
  },
  {
   "cell_type": "code",
   "execution_count": 2,
   "id": "8abc8319",
   "metadata": {},
   "outputs": [
    {
     "name": "stdout",
     "output_type": "stream",
     "text": [
      "5\n"
     ]
    }
   ],
   "source": [
    "print (5)"
   ]
  },
  {
   "cell_type": "markdown",
   "id": "31c16042",
   "metadata": {},
   "source": [
    "Day 2 - https://replit.com/@codewithharry/02-Day2-Application-of-Python#main.py"
   ]
  },
  {
   "cell_type": "markdown",
   "id": "16541079",
   "metadata": {},
   "source": [
    "5 Projects of Harry with codes here"
   ]
  },
  {
   "cell_type": "markdown",
   "id": "52f2fbbc",
   "metadata": {},
   "source": [
    "Day 3 - https://replit.com/@codewithharry/03-Day3-Modules-and-Pip#main.py"
   ]
  },
  {
   "cell_type": "code",
   "execution_count": 3,
   "id": "2a9ceff3",
   "metadata": {},
   "outputs": [],
   "source": [
    "# pip is an package manager and import is like start to use it in your code\n",
    "import pandas # external module\n",
    "import random # internal module"
   ]
  },
  {
   "cell_type": "markdown",
   "id": "5b8c28fb",
   "metadata": {},
   "source": [
    "Day 4 - https://replit.com/@codewithharry/04-Day4-Our-First-Program"
   ]
  },
  {
   "cell_type": "code",
   "execution_count": 4,
   "id": "a220359d",
   "metadata": {
    "scrolled": true
   },
   "outputs": [
    {
     "name": "stdout",
     "output_type": "stream",
     "text": [
      "Hello World\n",
      "Hello world 7\n",
      "20\n"
     ]
    }
   ],
   "source": [
    "print(\"Hello World\")\n",
    "print(\"Hello world\", 7)\n",
    "print(2*10)"
   ]
  },
  {
   "cell_type": "markdown",
   "id": "bff26db2",
   "metadata": {},
   "source": [
    "Write a program to print a poem in Python. Choose the poem of your choice"
   ]
  },
  {
   "cell_type": "code",
   "execution_count": 5,
   "id": "0afd541d",
   "metadata": {},
   "outputs": [
    {
     "name": "stdout",
     "output_type": "stream",
     "text": [
      "Jai Shree Ram\n",
      "Jai Shree Ram\n",
      "Jai Shree Ram\n",
      "Raja Ram\n"
     ]
    }
   ],
   "source": [
    "print(\"Jai Shree Ram\")\n",
    "print(\"Jai Shree Ram\")\n",
    "print(\"Jai Shree Ram\")\n",
    "print(\"Raja Ram\")"
   ]
  },
  {
   "cell_type": "code",
   "execution_count": 6,
   "id": "4b2e7bf0",
   "metadata": {
    "scrolled": true
   },
   "outputs": [
    {
     "name": "stdout",
     "output_type": "stream",
     "text": [
      "Jai Shree Ram \n",
      "Jai Shree Ram \n",
      "Jai Shree Ram \n",
      "Raja Ram\n"
     ]
    }
   ],
   "source": [
    "print( \"Jai Shree Ram \\nJai Shree Ram \\nJai Shree Ram \\nRaja Ram\")"
   ]
  },
  {
   "cell_type": "markdown",
   "id": "abe9e7eb",
   "metadata": {},
   "source": [
    "Day 5 - https://replit.com/@codewithharry/05-Day5-Comments-and-Print#main.py"
   ]
  },
  {
   "cell_type": "code",
   "execution_count": 7,
   "id": "b45cabb3",
   "metadata": {},
   "outputs": [
    {
     "name": "stdout",
     "output_type": "stream",
     "text": [
      "I am a Good Boy and \n",
      "he is good boy\n"
     ]
    }
   ],
   "source": [
    "print(\"I am a Good Boy and \\nhe is good boy\") # \\n is a escape sequence - new line "
   ]
  },
  {
   "cell_type": "code",
   "execution_count": 2,
   "id": "6ea32cb4",
   "metadata": {},
   "outputs": [
    {
     "data": {
      "text/plain": [
       "'\\nThis is a comment\\nwritten in\\nmore than just one line\\n'"
      ]
     },
     "execution_count": 2,
     "metadata": {},
     "output_type": "execute_result"
    }
   ],
   "source": [
    "# This is Comment\n",
    "# select and Press Ctrl + / for multiple commentsat time\n",
    "\"\"\"\n",
    "This is a comment\n",
    "written in\n",
    "more than just one line\n",
    "\"\"\""
   ]
  },
  {
   "cell_type": "code",
   "execution_count": 9,
   "id": "9627b0d3",
   "metadata": {},
   "outputs": [
    {
     "name": "stdout",
     "output_type": "stream",
     "text": [
      "Hello \"Saitej \n"
     ]
    }
   ],
   "source": [
    "# print(\"Hello \"Sai Teja\"\")\n",
    "print (\"Hello \\\"Saitej \" ) #  \\\" is used to write \" even in betwwen \" \" without syntax Error"
   ]
  },
  {
   "cell_type": "markdown",
   "id": "3720aaa1",
   "metadata": {},
   "source": [
    "More on print()"
   ]
  },
  {
   "cell_type": "code",
   "execution_count": 10,
   "id": "102bfc15",
   "metadata": {},
   "outputs": [
    {
     "name": "stdout",
     "output_type": "stream",
     "text": [
      "hey~1~2\n",
      "Hello and Hi\n"
     ]
    }
   ],
   "source": [
    "print(\"hey\", 1, 2 , sep=\"~\" )# Any thing given in sep = then it will sep objects in the print statement with what given in the seperator and by default it is A single space\n",
    "print(\"Hello\" , end=\" and \") # makes an end with what given in end\n",
    "print(\"Hi\")"
   ]
  },
  {
   "cell_type": "markdown",
   "id": "2d65926e",
   "metadata": {},
   "source": [
    "16 - 06 - 2023"
   ]
  },
  {
   "cell_type": "markdown",
   "id": "fa6febfc",
   "metadata": {},
   "source": [
    "Day 6 - https://replit.com/@codewithharry/06-Day6-Variables-and-Data-Types#main.py"
   ]
  },
  {
   "cell_type": "code",
   "execution_count": 11,
   "id": "55f1bbc8",
   "metadata": {},
   "outputs": [
    {
     "name": "stdout",
     "output_type": "stream",
     "text": [
      "122338858\n"
     ]
    }
   ],
   "source": [
    "A  = 122338858 # A is a Variable\n",
    "print(A)"
   ]
  },
  {
   "cell_type": "code",
   "execution_count": 12,
   "id": "c6597998",
   "metadata": {},
   "outputs": [
    {
     "name": "stdout",
     "output_type": "stream",
     "text": [
      "9\n",
      "Harry\n"
     ]
    }
   ],
   "source": [
    "Harry = 9\n",
    "print(Harry) \n",
    "print(\"Harry\") #We need to put strings in a double quotes"
   ]
  },
  {
   "cell_type": "code",
   "execution_count": 13,
   "id": "fe05da58",
   "metadata": {},
   "outputs": [
    {
     "name": "stdout",
     "output_type": "stream",
     "text": [
      "<class 'int'>\n",
      "<class 'bool'>\n",
      "<class 'str'>\n",
      "<class 'NoneType'>\n"
     ]
    },
    {
     "data": {
      "text/plain": [
       "float"
      ]
     },
     "execution_count": 13,
     "metadata": {},
     "output_type": "execute_result"
    }
   ],
   "source": [
    "a = 1       #int\n",
    "b = True    #bool true or false\n",
    "c = \"Harry\" #string\n",
    "d = None    #none\n",
    "print(type(a), type(b), type(c), type(d), sep =\"\\n\") # type() the function to print any type of variables\n",
    "e = 1.110\n",
    "type(e) "
   ]
  },
  {
   "cell_type": "code",
   "execution_count": 14,
   "id": "0d045301",
   "metadata": {},
   "outputs": [
    {
     "name": "stdout",
     "output_type": "stream",
     "text": [
      "[8, 2.3, [-4, 5], ['apple', 'banana']]\n",
      "<class 'list'>\n"
     ]
    }
   ],
   "source": [
    "list1 = [8, 2.3, [-4, 5], [\"apple\", \"banana\"]]    #lIST\n",
    "print(list1)   #Lists are mutable and can be modified after creation.\n",
    "print(type(list1))"
   ]
  },
  {
   "cell_type": "code",
   "execution_count": 15,
   "id": "14ac650e",
   "metadata": {},
   "outputs": [
    {
     "name": "stdout",
     "output_type": "stream",
     "text": [
      "(('parrot', 'sparrow'), ('Lion', 'Tiger'))\n",
      "<class 'tuple'>\n"
     ]
    }
   ],
   "source": [
    "tuple1 = ((\"parrot\", \"sparrow\"), (\"Lion\", \"Tiger\")) #TUPLE\n",
    "print(tuple1) # Tuples are immutable and can not be modified after creation.\n",
    "print(type(tuple1))"
   ]
  },
  {
   "cell_type": "code",
   "execution_count": 16,
   "id": "e6533625",
   "metadata": {},
   "outputs": [
    {
     "name": "stdout",
     "output_type": "stream",
     "text": [
      "{'name': 'Sai', 'age': 20, 'location': 'Kgp'}\n",
      "<class 'dict'>\n"
     ]
    }
   ],
   "source": [
    "dict1 = {\"name\" : \"Sai\",  #dict\n",
    "         \"age\"  : 20,     #A dictionary is an unordered collection of data containing a key:value pair. \n",
    "                          #The key:value pairs are enclosed within curly brackets.\n",
    "         \"location\" : \"Kgp\"}\n",
    "print(dict1)\n",
    "print(type(dict1))"
   ]
  },
  {
   "cell_type": "markdown",
   "id": "105cf90e",
   "metadata": {},
   "source": [
    "Day 7 - https://replit.com/@codewithharry/07-Day7-Exercise-1-Create-a-"
   ]
  },
  {
   "cell_type": "markdown",
   "id": "413b5c6b",
   "metadata": {},
   "source": [
    "Arithmetic operators"
   ]
  },
  {
   "cell_type": "code",
   "execution_count": 17,
   "id": "662dc468",
   "metadata": {
    "scrolled": true
   },
   "outputs": [
    {
     "name": "stdout",
     "output_type": "stream",
     "text": [
      "16\n",
      "4\n",
      "60\n",
      "1.6666666666666667\n",
      "1\n",
      "4\n",
      "1000000\n"
     ]
    }
   ],
   "source": [
    "print(10+6)\n",
    "print(10-6)\n",
    "print(10*6)\n",
    "print(10/6)\n",
    "print(10//6) # Floor Division , removes the decimal , very important\n",
    "print(10 % 6) #modulus\n",
    "print(10**6) #exponential"
   ]
  },
  {
   "cell_type": "markdown",
   "id": "f288c32e",
   "metadata": {},
   "source": [
    "Local Variable and Global Variable"
   ]
  },
  {
   "cell_type": "code",
   "execution_count": 18,
   "id": "6a81c967",
   "metadata": {},
   "outputs": [
    {
     "name": "stdout",
     "output_type": "stream",
     "text": [
      "Inside f() :  1\n"
     ]
    }
   ],
   "source": [
    "#Variable types Local and Global Variable\n",
    "\n",
    "a= 1 # Global Variable \n",
    "def f():\n",
    "    #a= 2\n",
    "    print('Inside f() : ', a) # But Using Global Variable in inside function and no local variabel\n",
    "f()"
   ]
  },
  {
   "cell_type": "code",
   "execution_count": 30,
   "id": "dacf68ce",
   "metadata": {},
   "outputs": [
    {
     "name": "stdout",
     "output_type": "stream",
     "text": [
      "Inside f() :  2\n"
     ]
    },
    {
     "ename": "NameError",
     "evalue": "name 'm' is not defined",
     "output_type": "error",
     "traceback": [
      "\u001b[1;31m---------------------------------------------------------------------------\u001b[0m",
      "\u001b[1;31mNameError\u001b[0m                                 Traceback (most recent call last)",
      "\u001b[1;32m~\\AppData\\Local\\Temp\\ipykernel_12244\\3576873226.py\u001b[0m in \u001b[0;36m<module>\u001b[1;34m\u001b[0m\n\u001b[0;32m      3\u001b[0m     \u001b[0mprint\u001b[0m\u001b[1;33m(\u001b[0m\u001b[1;34m'Inside f() : '\u001b[0m\u001b[1;33m,\u001b[0m \u001b[0mm\u001b[0m\u001b[1;33m)\u001b[0m \u001b[1;31m# But Using local Variable in inside function\u001b[0m\u001b[1;33m\u001b[0m\u001b[1;33m\u001b[0m\u001b[0m\n\u001b[0;32m      4\u001b[0m \u001b[0mf\u001b[0m\u001b[1;33m(\u001b[0m\u001b[1;33m)\u001b[0m\u001b[1;33m\u001b[0m\u001b[1;33m\u001b[0m\u001b[0m\n\u001b[1;32m----> 5\u001b[1;33m \u001b[0mprint\u001b[0m\u001b[1;33m(\u001b[0m\u001b[0mm\u001b[0m\u001b[1;33m)\u001b[0m\u001b[1;33m\u001b[0m\u001b[1;33m\u001b[0m\u001b[0m\n\u001b[0m",
      "\u001b[1;31mNameError\u001b[0m: name 'm' is not defined"
     ]
    }
   ],
   "source": [
    "def f():\n",
    "    m= 2\n",
    "    print('Inside f() : ', m) # But Using local Variable in inside function\n",
    "f()\n",
    "print(m) #we cant use local variable outside of function"
   ]
  },
  {
   "cell_type": "code",
   "execution_count": 20,
   "id": "57954eaa",
   "metadata": {
    "scrolled": true
   },
   "outputs": [
    {
     "name": "stdout",
     "output_type": "stream",
     "text": [
      "Inside h() :  10\n",
      "10\n"
     ]
    }
   ],
   "source": [
    "c = 3 #Global Variable\n",
    "def f():\n",
    "    global c       # We Used global keyword to get c and we changed it in the outside too\n",
    "    c= 10\n",
    "    print('Inside h() : ', c)\n",
    "f()\n",
    "print(c) # Changed for outside also"
   ]
  },
  {
   "cell_type": "markdown",
   "id": "b66c9d7a",
   "metadata": {},
   "source": [
    "Day 8 - https://replit.com/@codewithharry/08-Day8-Exercise-1-Create-a-Calculator-Solution#main.py"
   ]
  },
  {
   "cell_type": "markdown",
   "id": "7df926d2",
   "metadata": {},
   "source": [
    "Calculator"
   ]
  },
  {
   "cell_type": "code",
   "execution_count": 21,
   "id": "63378e66",
   "metadata": {},
   "outputs": [
    {
     "name": "stdout",
     "output_type": "stream",
     "text": [
      " Calculator\n",
      "+, - , X, / j\n",
      "Are U blind\n"
     ]
    }
   ],
   "source": [
    "print(\" Calculator\")\n",
    "op = input(\"+, - , X, / \")\n",
    "if op == \"+\":\n",
    "    a= int(input(\"___ +___\"))\n",
    "    print(a,\"+ ___\" )\n",
    "    b = int(input())\n",
    "    print(a+b)\n",
    "    \n",
    "elif op == \"-\":\n",
    "    a= int(input(\"___ -___\"))\n",
    "    print(a,\"- ___\" )\n",
    "    b = int(input())\n",
    "    print(a-b)\n",
    "    \n",
    "elif op == \"X\":\n",
    "    a= int(input(\"___ X___\"))\n",
    "    print(a,\"X ___\" )\n",
    "    b = int(input())\n",
    "    print(a*b)\n",
    "    \n",
    "elif op == \"/\":\n",
    "    a= int(input(\"___ /___\"))\n",
    "    print(a,\"/ ___\" )\n",
    "    b = int(input())\n",
    "    print(a/b)\n",
    "else:\n",
    "    print(\"Are U blind\")"
   ]
  },
  {
   "cell_type": "markdown",
   "id": "42d88335",
   "metadata": {},
   "source": [
    "Day 9 - https://replit.com/@codewithharry/09-Day9-Typecasting-in-Python"
   ]
  },
  {
   "cell_type": "markdown",
   "id": "c0052267",
   "metadata": {},
   "source": [
    "Type Casting"
   ]
  },
  {
   "cell_type": "code",
   "execution_count": 22,
   "id": "0ee3ffd3",
   "metadata": {},
   "outputs": [
    {
     "name": "stdout",
     "output_type": "stream",
     "text": [
      "12\n"
     ]
    }
   ],
   "source": [
    "a = \"1\"\n",
    "b = \"2\"\n",
    "print(a+b) # ADD String"
   ]
  },
  {
   "cell_type": "code",
   "execution_count": 23,
   "id": "5ad99f63",
   "metadata": {},
   "outputs": [
    {
     "name": "stdout",
     "output_type": "stream",
     "text": [
      "13\n"
     ]
    }
   ],
   "source": [
    "a= \"12\"\n",
    "print(int(a) +1) #Type casted sucessfully from string to number , integer"
   ]
  },
  {
   "cell_type": "code",
   "execution_count": 24,
   "id": "6da17c7a",
   "metadata": {},
   "outputs": [
    {
     "name": "stdout",
     "output_type": "stream",
     "text": [
      "10\n"
     ]
    }
   ],
   "source": [
    "A= '10'\n",
    "print(int(A))  #Explicit Conversion"
   ]
  },
  {
   "cell_type": "code",
   "execution_count": 31,
   "id": "2b9ed53d",
   "metadata": {},
   "outputs": [
    {
     "name": "stdout",
     "output_type": "stream",
     "text": [
      "<class 'int'>\n",
      "<class 'float'>\n",
      "10.0\n",
      "<class 'float'>\n"
     ]
    }
   ],
   "source": [
    "#Implicit Conversion\n",
    "\n",
    "# Python automatically converts\n",
    "# a to int\n",
    "a = 7\n",
    "print(type(a))\n",
    "\n",
    "# Python automatically converts b to float\n",
    "b = 3.0\n",
    "print(type(b))\n",
    "\n",
    "# Python automatically converts c to float as it is a float addition\n",
    "c = a + b\n",
    "print(c)\n",
    "print(type(c))"
   ]
  },
  {
   "cell_type": "markdown",
   "id": "da610b27",
   "metadata": {},
   "source": [
    "Day 10 - https://replit.com/@codewithharry/10-Day10-Taking-User-Input#main.py%60"
   ]
  },
  {
   "cell_type": "markdown",
   "id": "1e80f9be",
   "metadata": {},
   "source": [
    "User Input"
   ]
  },
  {
   "cell_type": "code",
   "execution_count": 26,
   "id": "a9f949ac",
   "metadata": {
    "scrolled": true
   },
   "outputs": [
    {
     "name": "stdout",
     "output_type": "stream",
     "text": [
      "Enter Your Name  - j\n",
      "Good Morning j\n"
     ]
    }
   ],
   "source": [
    "name= input(\"Enter Your Name  - \")\n",
    "print(\"Good Morning\", name)"
   ]
  },
  {
   "cell_type": "code",
   "execution_count": 27,
   "id": "4ed69ccf",
   "metadata": {
    "scrolled": true
   },
   "outputs": [
    {
     "name": "stdout",
     "output_type": "stream",
     "text": [
      "Enter a number 112\n",
      "Enter a number 2123\n",
      "135\n"
     ]
    }
   ],
   "source": [
    "#For Input as an interger we should typecast with requires\n",
    "a= int(input(\"Enter a number 1\"))\n",
    "b = int(input(\"Enter a number 2\"))\n",
    "print(a+b)"
   ]
  },
  {
   "cell_type": "markdown",
   "id": "cc60ce8b",
   "metadata": {},
   "source": [
    "17 - 06 - 2023"
   ]
  },
  {
   "cell_type": "markdown",
   "id": "d490039b",
   "metadata": {},
   "source": [
    "Day 11 - https://replit.com/@codewithharry/11-Day11-Strings#main.py"
   ]
  },
  {
   "cell_type": "markdown",
   "id": "e3e98cd7",
   "metadata": {},
   "source": [
    "Strings -- String is a sequence of charactes and # Those are immutable"
   ]
  },
  {
   "cell_type": "code",
   "execution_count": 34,
   "id": "07affba5",
   "metadata": {},
   "outputs": [
    {
     "name": "stdout",
     "output_type": "stream",
     "text": [
      "Hello, Sai Teja\n"
     ]
    }
   ],
   "source": [
    "str = \"Hello, \" #any things encoded b/w \" \" or ' ' is called strings\n",
    "name = \"Sai Teja\"\n",
    "print(str+name) #Concatenating 2 Strings"
   ]
  },
  {
   "cell_type": "code",
   "execution_count": 36,
   "id": "160c461c",
   "metadata": {},
   "outputs": [
    {
     "name": "stdout",
     "output_type": "stream",
     "text": [
      "\n",
      "Jai Shree Ram \n",
      "Jai Shree Ram \n",
      "Jai Shree Ram \n",
      "Raja Ram\n",
      "\n"
     ]
    }
   ],
   "source": [
    "Poem = '''\n",
    "Jai Shree Ram   #Triple Quotes for multiline string\n",
    "Jai Shree Ram \n",
    "Jai Shree Ram \n",
    "Raja Ram\n",
    "'''\n",
    "print(Poem)"
   ]
  },
  {
   "cell_type": "code",
   "execution_count": 47,
   "id": "8e757a61",
   "metadata": {},
   "outputs": [
    {
     "name": "stdout",
     "output_type": "stream",
     "text": [
      "A\n",
      "d\n",
      "i\n",
      "p\n",
      "u\n",
      "h\n"
     ]
    },
    {
     "ename": "IndexError",
     "evalue": "string index out of range",
     "output_type": "error",
     "traceback": [
      "\u001b[1;31m---------------------------------------------------------------------------\u001b[0m",
      "\u001b[1;31mIndexError\u001b[0m                                Traceback (most recent call last)",
      "\u001b[1;32m~\\AppData\\Local\\Temp\\ipykernel_12244\\2155798078.py\u001b[0m in \u001b[0;36m<module>\u001b[1;34m\u001b[0m\n\u001b[0;32m      6\u001b[0m \u001b[0mprint\u001b[0m\u001b[1;33m(\u001b[0m\u001b[0mmv\u001b[0m\u001b[1;33m[\u001b[0m\u001b[1;36m4\u001b[0m\u001b[1;33m]\u001b[0m\u001b[1;33m)\u001b[0m\u001b[1;33m\u001b[0m\u001b[1;33m\u001b[0m\u001b[0m\n\u001b[0;32m      7\u001b[0m \u001b[0mprint\u001b[0m\u001b[1;33m(\u001b[0m\u001b[0mmv\u001b[0m\u001b[1;33m[\u001b[0m\u001b[1;33m-\u001b[0m\u001b[1;36m1\u001b[0m\u001b[1;33m]\u001b[0m\u001b[1;33m)\u001b[0m\u001b[1;33m\u001b[0m\u001b[1;33m\u001b[0m\u001b[0m\n\u001b[1;32m----> 8\u001b[1;33m \u001b[0mprint\u001b[0m\u001b[1;33m(\u001b[0m\u001b[0mmv\u001b[0m\u001b[1;33m[\u001b[0m\u001b[1;36m10\u001b[0m\u001b[1;33m]\u001b[0m\u001b[1;33m)\u001b[0m \u001b[1;31m# Throws an index Error as no element lies in that index\u001b[0m\u001b[1;33m\u001b[0m\u001b[1;33m\u001b[0m\u001b[0m\n\u001b[0m",
      "\u001b[1;31mIndexError\u001b[0m: string index out of range"
     ]
    }
   ],
   "source": [
    "mv = \"Adipursh\"\n",
    "print(mv[0])  #Index \n",
    "print(mv[1])  #we can access the characters of a string using indexing\n",
    "print(mv[2])\n",
    "print(mv[3])\n",
    "print(mv[4])\n",
    "print(mv[-1]) #-1 specifies negative indexing strats from last\n",
    "print(mv[10]) # Throws an index Error as no element lies in that index"
   ]
  },
  {
   "cell_type": "code",
   "execution_count": 1,
   "id": "9e2cf2ae",
   "metadata": {},
   "outputs": [
    {
     "name": "stdout",
     "output_type": "stream",
     "text": [
      "\n",
      "Jai Shree Ram \n",
      "Jai Shree Ram \n",
      "Jai Shree Ram \n",
      "Raja Ram\n",
      "\n"
     ]
    }
   ],
   "source": [
    "poem = '''\n",
    "Jai Shree Ram \n",
    "Jai Shree Ram \n",
    "Jai Shree Ram \n",
    "Raja Ram\n",
    "'''\n",
    "print(poem)"
   ]
  },
  {
   "cell_type": "markdown",
   "id": "5d925c58",
   "metadata": {},
   "source": [
    "using For loop for indexing"
   ]
  },
  {
   "cell_type": "code",
   "execution_count": 43,
   "id": "04b7cfc9",
   "metadata": {
    "scrolled": false
   },
   "outputs": [
    {
     "name": "stdout",
     "output_type": "stream",
     "text": [
      "\n",
      "\n",
      "J\n",
      "a\n",
      "i\n",
      " \n",
      "S\n",
      "h\n",
      "r\n",
      "e\n",
      "e\n",
      " \n",
      "R\n",
      "a\n",
      "m\n",
      " \n",
      "\n",
      "\n",
      "J\n",
      "a\n",
      "i\n",
      " \n",
      "S\n",
      "h\n",
      "r\n",
      "e\n",
      "e\n",
      " \n",
      "R\n",
      "a\n",
      "m\n",
      " \n",
      "\n",
      "\n",
      "J\n",
      "a\n",
      "i\n",
      " \n",
      "S\n",
      "h\n",
      "r\n",
      "e\n",
      "e\n",
      " \n",
      "R\n",
      "a\n",
      "m\n",
      " \n",
      "\n",
      "\n",
      "R\n",
      "a\n",
      "j\n",
      "a\n",
      " \n",
      "R\n",
      "a\n",
      "m\n",
      "\n",
      "\n"
     ]
    }
   ],
   "source": [
    "for char in poem:\n",
    "    print(char)"
   ]
  },
  {
   "cell_type": "markdown",
   "id": "e35ca835",
   "metadata": {},
   "source": [
    "Day 12 - https://replit.com/@codewithharry/12-Day12-Strings-Slicing#main.py"
   ]
  },
  {
   "cell_type": "code",
   "execution_count": null,
   "id": "f1edd833",
   "metadata": {},
   "outputs": [],
   "source": [
    "# Strings Slicing and Operations on Strings"
   ]
  },
  {
   "cell_type": "code",
   "execution_count": 8,
   "id": "8bbcdd6e",
   "metadata": {},
   "outputs": [
    {
     "name": "stdout",
     "output_type": "stream",
     "text": [
      "12\n"
     ]
    }
   ],
   "source": [
    "str = \" HELLO WORLD\"\n",
    "print(len(str)) #length of string"
   ]
  },
  {
   "cell_type": "code",
   "execution_count": 45,
   "id": "02c80c3c",
   "metadata": {},
   "outputs": [
    {
     "name": "stdout",
     "output_type": "stream",
     "text": [
      " HELL\n",
      " HELL\n"
     ]
    }
   ],
   "source": [
    "print(str[0:5]) #Prints the string characters in between strt of 0 to till 4 and not 5\n",
    "print(str[:5])"
   ]
  },
  {
   "cell_type": "code",
   "execution_count": 13,
   "id": "34ea8ba6",
   "metadata": {},
   "outputs": [
    {
     "name": "stdout",
     "output_type": "stream",
     "text": [
      "DLROW OLLEH \n"
     ]
    }
   ],
   "source": [
    "print(str[::-1])"
   ]
  },
  {
   "cell_type": "code",
   "execution_count": 48,
   "id": "1f8d7399",
   "metadata": {},
   "outputs": [
    {
     "name": "stdout",
     "output_type": "stream",
     "text": [
      " HELLO WO\n"
     ]
    }
   ],
   "source": [
    "print(str[0: -3])"
   ]
  },
  {
   "cell_type": "code",
   "execution_count": 52,
   "id": "360be60d",
   "metadata": {},
   "outputs": [
    {
     "name": "stdout",
     "output_type": "stream",
     "text": [
      "WORL\n"
     ]
    }
   ],
   "source": [
    "print(str[-5 : -1])"
   ]
  },
  {
   "cell_type": "code",
   "execution_count": 59,
   "id": "c0737bb2",
   "metadata": {},
   "outputs": [
    {
     "name": "stdout",
     "output_type": "stream",
     "text": [
      "ar\n"
     ]
    }
   ],
   "source": [
    "print(\"harry\"[-4:-2])"
   ]
  },
  {
   "cell_type": "code",
   "execution_count": 2,
   "id": "08985ea5",
   "metadata": {},
   "outputs": [
    {
     "name": "stdout",
     "output_type": "stream",
     "text": [
      "ajeTiaS\n"
     ]
    }
   ],
   "source": [
    "print(\"SaiTeja\"[::-1])"
   ]
  },
  {
   "cell_type": "code",
   "execution_count": 63,
   "id": "a47d605d",
   "metadata": {},
   "outputs": [
    {
     "name": "stdout",
     "output_type": "stream",
     "text": [
      " Enter any word --happy\n",
      "Length of the word happy is 5\n"
     ]
    }
   ],
   "source": [
    "word = input(\"Enter any word --\")\n",
    "print(\"Length of the word\" , word , \"is\" , len(word))"
   ]
  },
  {
   "cell_type": "markdown",
   "id": "45adc382",
   "metadata": {},
   "source": [
    "Day 13 -- https://replit.com/@codewithharry/13-Day13-String-Methods"
   ]
  },
  {
   "cell_type": "markdown",
   "id": "cb8bb51f",
   "metadata": {},
   "source": [
    "String Methods"
   ]
  },
  {
   "cell_type": "code",
   "execution_count": 26,
   "id": "b14b19a9",
   "metadata": {},
   "outputs": [
    {
     "name": "stdout",
     "output_type": "stream",
     "text": [
      "11\n",
      "SAITEJA    \n",
      "saiteja    \n",
      "Saiteja\n",
      "!!Hello!!!!    \n",
      "!!Hi!!!!    \n",
      "['hi', 'Hello', 'Bye', 'Good', 'Morning', 'SeeU']\n",
      "Hi hello bye good morning seeu\n",
      "                   Saiteja                        \n",
      "4\n",
      "False\n",
      "9\n"
     ]
    }
   ],
   "source": [
    "str = \"Saiteja    \"\n",
    "print(len(str))\n",
    "print(str.upper()) #Returns all the string in the uppercase\n",
    "print(str.lower()) #Returns all the string character in the lower case\n",
    "print(str.strip()) #removes the white spaces\n",
    "# Rstrip - Removes the tailing characters\n",
    "str1= \"!!Hello!!!!    \"\n",
    "print(str1.rstrip(\"!\")) #it replaces only the last one not first\n",
    "print(str1.replace(\"Hello\", \"Hi\")) #Replaces all the occurences of Hello to hi in this string\n",
    "\n",
    "str2 = \"hi Hello Bye Good Morning SeeU\"\n",
    "print(str2.split(\" \")) # Splits the string into List with the space\n",
    "print(str2.capitalize()) #Capitalizes the string, only the start captital, the others in lower case\n",
    "print(str.center(50)) #Center in between the 50 spaces blocks\n",
    "print(str2.count(\"o\")) #Gives the count of number of times the o is present in the string\n",
    "print(str1.endswith(\"!\")) #Gives a boolen value of it is there or not with Yes or no\n",
    "print(str2.find(\"Bye\")) #Finds and returns the index of the first occurance of the word"
   ]
  },
  {
   "cell_type": "code",
   "execution_count": 21,
   "id": "f6d9a806",
   "metadata": {
    "scrolled": true
   },
   "outputs": [
    {
     "name": "stdout",
     "output_type": "stream",
     "text": [
      "1 True\n",
      "2 False\n",
      "3 False\n",
      "4 True\n",
      "5 False\n",
      "6 True\n",
      "7 True\n",
      "8 wELCOME123\n",
      "9 Sai Teja Is A Good Boy  \n",
      "10 Sai Teja Is A Good Boy\n"
     ]
    }
   ],
   "source": [
    "x= \"Welcome123\"\n",
    "x1 = \"\\t\"\n",
    "print(1,x.isalnum()) #Alpha numeric (consists of bothalbhapeds and numerics)\n",
    "print(2,x.isalpha()) #Checks for the string consists of alphabets\n",
    "print(3,x.islower()) #Checks for lowercase\n",
    "print(4,x.isprintable()) #checks for printable characters\n",
    "print(5,x.isspace()) #Checks for any tab spaces \"\\t\"\n",
    "y=\"Abc\"\n",
    "print(6,y.istitle()) #checks title format\n",
    "print(7,y.startswith(\"A\")) #Checks for start\n",
    "print(8,x.swapcase())\n",
    "z= \"Sai teja is a good boy  \"\n",
    "print(9,z.title()) #Title format\n",
    "print(10,z.strip().title()) #we can use it in compbinations"
   ]
  },
  {
   "cell_type": "markdown",
   "id": "f832a859",
   "metadata": {},
   "source": [
    "Day 14 - https://replit.com/@codewithharry/14-Day14-If-Else-Conditionals#04%20nested.py"
   ]
  },
  {
   "cell_type": "raw",
   "id": "f1820a8d",
   "metadata": {},
   "source": [
    "if else elif"
   ]
  },
  {
   "cell_type": "code",
   "execution_count": 28,
   "id": "e230df93",
   "metadata": {},
   "outputs": [],
   "source": [
    "#Conditional Operators\n",
    "# >, <, <=, >=, =="
   ]
  },
  {
   "cell_type": "code",
   "execution_count": 29,
   "id": "71d7ebe7",
   "metadata": {},
   "outputs": [
    {
     "name": "stdout",
     "output_type": "stream",
     "text": [
      "Enter your age34\n",
      "You can Drive\n"
     ]
    }
   ],
   "source": [
    "age = int(input(\"Enter your age\"))\n",
    "if (age>=18):\n",
    "    print(\"You can Drive\")  #The space of code is called an indentation\n",
    "else:                       #It replaces the curly braces or black of code in c, c++\n",
    "    print(\" You Cannot Drive\")"
   ]
  },
  {
   "cell_type": "code",
   "execution_count": 40,
   "id": "c21c912e",
   "metadata": {},
   "outputs": [
    {
     "name": "stdout",
     "output_type": "stream",
     "text": [
      "Enter a number4\n",
      "One digit\n"
     ]
    }
   ],
   "source": [
    "#ELIF\n",
    "num = input(\"Enter a number\")\n",
    "if (len(num) == 1):\n",
    "    print(\"One digit\")\n",
    "elif (len(num) ==2):\n",
    "    print(\"Two Digit\")\n",
    "else:\n",
    "    print(\"More than two digit\")"
   ]
  },
  {
   "cell_type": "code",
   "execution_count": 43,
   "id": "cd0613b3",
   "metadata": {},
   "outputs": [
    {
     "name": "stdout",
     "output_type": "stream",
     "text": [
      "Enter a number47844\n",
      "More than 5\n"
     ]
    }
   ],
   "source": [
    "#Nested if\n",
    "num = input(\"Enter a number\")\n",
    "if (len(num) == 1):\n",
    "    print(\"One digit\")\n",
    "elif (len(num) ==2):\n",
    "    print(\"Two Digit\")\n",
    "else:\n",
    "    if(len(num)==3):\n",
    "        print(\"Three Digit\")\n",
    "    elif(len(num)==4):\n",
    "        print(\"Five Digit\")\n",
    "    else:\n",
    "        print(\"More than 5\")"
   ]
  },
  {
   "cell_type": "code",
   "execution_count": 44,
   "id": "9570ee83",
   "metadata": {},
   "outputs": [
    {
     "name": "stdout",
     "output_type": "stream",
     "text": [
      "Ok\n"
     ]
    }
   ],
   "source": [
    "str=\"happy\"\n",
    "if str.islower():  3explore more\n",
    "    print(\"Ok\")"
   ]
  },
  {
   "cell_type": "markdown",
   "id": "a283e48c",
   "metadata": {},
   "source": [
    "Day 15 - https://replit.com/@codewithharry/15-Day15-Exercise-2-Good-Morning-Sir#.tutorial/Tutorial.md"
   ]
  },
  {
   "cell_type": "code",
   "execution_count": 58,
   "id": "12829dec",
   "metadata": {},
   "outputs": [],
   "source": [
    "#Exercise 2 - Greet in time"
   ]
  },
  {
   "cell_type": "code",
   "execution_count": 3,
   "id": "c9db5813",
   "metadata": {},
   "outputs": [
    {
     "name": "stdout",
     "output_type": "stream",
     "text": [
      "16:53:44\n",
      "16\n",
      "53\n",
      "44\n",
      "Current time in seconds since epoch = 1687087424.2251651\n"
     ]
    }
   ],
   "source": [
    "import time\n",
    "timestamp = time.strftime('%H:%M:%S')\n",
    "print(timestamp)\n",
    "timestamp = time.strftime('%H')\n",
    "print(timestamp)\n",
    "timestamp = time.strftime('%M')\n",
    "print(timestamp)\n",
    "timestamp = time.strftime('%S')\n",
    "print(timestamp)\n",
    "curr = time.time()\n",
    "print(\"Current time in seconds since epoch =\", curr)"
   ]
  },
  {
   "cell_type": "code",
   "execution_count": 5,
   "id": "c37177ef",
   "metadata": {},
   "outputs": [
    {
     "name": "stdout",
     "output_type": "stream",
     "text": [
      "16:54:04\n",
      "Good Evening\n"
     ]
    }
   ],
   "source": [
    "timestamp = time.strftime('%H:%M:%S')\n",
    "print(timestamp)\n",
    "t = int(time.strftime('%H'))\n",
    "if ( t <=12 and t> 5):\n",
    "    print(\"Good Morning\")\n",
    "elif(t>12 and t<=18):\n",
    "    print(\"Good Evening\")\n",
    "else:\n",
    "    print(\"Good N8\")"
   ]
  },
  {
   "cell_type": "markdown",
   "id": "b3c6cdd6",
   "metadata": {},
   "source": [
    "18 - 06 - 2023"
   ]
  },
  {
   "cell_type": "markdown",
   "id": "c50985c7",
   "metadata": {},
   "source": [
    "Day 16 - https://replit.com/@codewithharry/16-Day-16-Match-Case#main.py"
   ]
  },
  {
   "cell_type": "code",
   "execution_count": 1,
   "id": "11536501",
   "metadata": {},
   "outputs": [
    {
     "data": {
      "text/plain": [
       "0"
      ]
     },
     "execution_count": 1,
     "metadata": {},
     "output_type": "execute_result"
    }
   ],
   "source": [
    "import os\n",
    "os.system(\"python --version\")"
   ]
  },
  {
   "cell_type": "code",
   "execution_count": 2,
   "id": "2a863459",
   "metadata": {},
   "outputs": [],
   "source": [
    "# Match Case"
   ]
  },
  {
   "cell_type": "code",
   "execution_count": 3,
   "id": "c8f6d453",
   "metadata": {},
   "outputs": [
    {
     "ename": "SyntaxError",
     "evalue": "invalid syntax (1507945458.py, line 4)",
     "output_type": "error",
     "traceback": [
      "\u001b[1;36m  File \u001b[1;32m\"C:\\Users\\KIIT\\AppData\\Local\\Temp\\ipykernel_5532\\1507945458.py\"\u001b[1;36m, line \u001b[1;32m4\u001b[0m\n\u001b[1;33m    match x:\u001b[0m\n\u001b[1;37m          ^\u001b[0m\n\u001b[1;31mSyntaxError\u001b[0m\u001b[1;31m:\u001b[0m invalid syntax\n"
     ]
    }
   ],
   "source": [
    "# New Update in Python 3.10 not working with this \n",
    "#Switch Case\n",
    "x = int(input(\"Give a rating\"))\n",
    "match x:\n",
    "    case 0:\n",
    "        print(\"Very Sad\")\n",
    "    case 1:\n",
    "        print(\"Sad\")\n",
    "    case 2:\n",
    "        print(\"Avg\")\n",
    "    case 3:\n",
    "        print(\"Haappy\")\n",
    "    case 2:\n",
    "        print(\"Super Happy\")\n",
    "    case _:\n",
    "        print(\"Retry\")"
   ]
  },
  {
   "cell_type": "markdown",
   "id": "f5a2a717",
   "metadata": {},
   "source": [
    "Day 17 - https://replit.com/@codewithharry/17-Day17-For-Loops"
   ]
  },
  {
   "cell_type": "markdown",
   "id": "495dc6f2",
   "metadata": {},
   "source": [
    "LOOps - For LOop"
   ]
  },
  {
   "cell_type": "code",
   "execution_count": 7,
   "id": "fd6944c0",
   "metadata": {},
   "outputs": [
    {
     "name": "stdout",
     "output_type": "stream",
     "text": [
      "S,a,i,\n",
      "T,e,j,a,"
     ]
    }
   ],
   "source": [
    "name = \"Sai Teja\"\n",
    "for i in name:\n",
    "    if i ==\" \":\n",
    "        print(\"\")\n",
    "    else:    \n",
    "        print(i, end =\",\")"
   ]
  },
  {
   "cell_type": "code",
   "execution_count": 10,
   "id": "c550c154",
   "metadata": {},
   "outputs": [
    {
     "name": "stdout",
     "output_type": "stream",
     "text": [
      "red\n",
      "--------\n",
      "r\n",
      "e\n",
      "d\n",
      "blue\n",
      "--------\n",
      "b\n",
      "l\n",
      "u\n",
      "e\n",
      "green\n",
      "--------\n",
      "g\n",
      "r\n",
      "e\n",
      "e\n",
      "n\n",
      "yellow\n",
      "--------\n",
      "y\n",
      "e\n",
      "l\n",
      "l\n",
      "o\n",
      "w\n"
     ]
    }
   ],
   "source": [
    "colors = [\"red\", \"blue\", \"green\", \"yellow\"]\n",
    "for color in colors:\n",
    "    print(color)\n",
    "    print(\"--------\")\n",
    "    for c in color:\n",
    "        print(c)"
   ]
  },
  {
   "cell_type": "code",
   "execution_count": 13,
   "id": "ce13a6b5",
   "metadata": {},
   "outputs": [
    {
     "name": "stdout",
     "output_type": "stream",
     "text": [
      "1\n",
      "2\n",
      "3\n",
      "4\n",
      "5\n"
     ]
    }
   ],
   "source": [
    "for i in range(5):\n",
    "    print(i+1)"
   ]
  },
  {
   "cell_type": "code",
   "execution_count": 15,
   "id": "67ea9dcb",
   "metadata": {},
   "outputs": [
    {
     "name": "stdout",
     "output_type": "stream",
     "text": [
      "1\n",
      "2\n",
      "3\n",
      "4\n",
      "5\n",
      "6\n",
      "7\n",
      "8\n",
      "9\n"
     ]
    }
   ],
   "source": [
    "for i in range(1,10): #Start 1 end 10-1 =9\n",
    "    print(i)"
   ]
  },
  {
   "cell_type": "code",
   "execution_count": 16,
   "id": "f3fcbfa9",
   "metadata": {
    "scrolled": true
   },
   "outputs": [
    {
     "name": "stdout",
     "output_type": "stream",
     "text": [
      "1\n",
      "3\n",
      "5\n",
      "7\n",
      "9\n"
     ]
    }
   ],
   "source": [
    "a = range(1,10,2) #start , end -1, step\n",
    "for i in a:\n",
    "    print(i)"
   ]
  },
  {
   "cell_type": "markdown",
   "id": "79354d50",
   "metadata": {},
   "source": [
    "Day 18 - https://replit.com/@codewithharry/18-Day18-While-Loops"
   ]
  },
  {
   "cell_type": "code",
   "execution_count": 21,
   "id": "ef584ce4",
   "metadata": {},
   "outputs": [
    {
     "name": "stdout",
     "output_type": "stream",
     "text": [
      "1\n",
      "2\n",
      "3\n",
      "4\n",
      "5\n",
      "6\n",
      "7\n",
      "8\n",
      "9\n",
      "10\n"
     ]
    }
   ],
   "source": [
    "i = 0\n",
    "while (i <10):\n",
    "    print(i+1)\n",
    "    i=i+1"
   ]
  },
  {
   "cell_type": "code",
   "execution_count": 23,
   "id": "66aaf67a",
   "metadata": {},
   "outputs": [
    {
     "name": "stdout",
     "output_type": "stream",
     "text": [
      "Enter age of person5\n",
      "Enter age of person3\n",
      "He is nor eligible\n",
      "Enter age of person7\n",
      "He is nor eligible\n",
      "Enter age of person7\n",
      "He is nor eligible\n",
      "Enter age of person65\n",
      "He is nor eligible\n",
      "65 of this person is greater than 18\n"
     ]
    }
   ],
   "source": [
    "#Automated Major Calculator\n",
    "age = int(input(\"Enter age of person\"))\n",
    "while(age<=18):\n",
    "    age = int(input(\"Enter age of person\"))\n",
    "    print(\"He is nor eligible\")\n",
    "    \n",
    "print(age, \"of this person is greater than 18\")"
   ]
  },
  {
   "cell_type": "code",
   "execution_count": 32,
   "id": "7856a415",
   "metadata": {},
   "outputs": [
    {
     "name": "stdout",
     "output_type": "stream",
     "text": [
      "10\n",
      "9\n",
      "8\n",
      "7\n",
      "6\n",
      "5\n",
      "4\n",
      "3\n",
      "2\n",
      "1\n"
     ]
    }
   ],
   "source": [
    "#Decrementing loop\n",
    "num = 10\n",
    "while (num>0):\n",
    "    print(num)\n",
    "    num = num -1"
   ]
  },
  {
   "cell_type": "code",
   "execution_count": 34,
   "id": "32209934",
   "metadata": {},
   "outputs": [
    {
     "name": "stdout",
     "output_type": "stream",
     "text": [
      "Enter age of person6\n",
      "Enter age of person7\n",
      "He is nor eligible\n",
      "Enter age of person90\n",
      "He is nor eligible\n",
      "90 of this person is greater than 18\n"
     ]
    }
   ],
   "source": [
    "#while - else\n",
    "age = int(input(\"Enter age of person\"))\n",
    "while(age<=18):\n",
    "    age = int(input(\"Enter age of person\"))\n",
    "    print(\"He is nor eligible\")\n",
    "else:\n",
    "    print(age, \"of this person is greater than 18\")"
   ]
  },
  {
   "cell_type": "code",
   "execution_count": 36,
   "id": "d6a0cbb0",
   "metadata": {},
   "outputs": [
    {
     "name": "stdout",
     "output_type": "stream",
     "text": [
      "Enter a positive number: 8\n",
      "8\n",
      "Enter a positive number: 89\n",
      "89\n",
      "Enter a positive number: -9\n",
      "-9\n"
     ]
    }
   ],
   "source": [
    "# Do - while  - Atleast one time it runs\n",
    "while True:  #While true will be an infinite loop \n",
    "    number = int(input(\"Enter a positive number: \"))\n",
    "    print(number)\n",
    "    if not number > 0:\n",
    "        break"
   ]
  },
  {
   "cell_type": "code",
   "execution_count": 1,
   "id": "ccc33602",
   "metadata": {},
   "outputs": [
    {
     "name": "stdout",
     "output_type": "stream",
     "text": [
      "Enter Age89\n",
      "You can go\n"
     ]
    }
   ],
   "source": [
    "while True:\n",
    "    age= int(input(\"Enter Age\"))\n",
    "    if (age<=18):\n",
    "        print(\"You are not eligible\")\n",
    "    else:\n",
    "        print(\"You can go\")\n",
    "        break"
   ]
  },
  {
   "cell_type": "markdown",
   "id": "be2cbdae",
   "metadata": {},
   "source": [
    "19 - 06 - 2023"
   ]
  },
  {
   "cell_type": "markdown",
   "id": "30917291",
   "metadata": {},
   "source": [
    "Day 19 - https://replit.com/@codewithharry/19-Day-19-break-and-continue#main.py"
   ]
  },
  {
   "cell_type": "code",
   "execution_count": 2,
   "id": "8b3a10e4",
   "metadata": {},
   "outputs": [],
   "source": [
    "# Break and Continue"
   ]
  },
  {
   "cell_type": "code",
   "execution_count": 8,
   "id": "a3fb0802",
   "metadata": {
    "scrolled": true
   },
   "outputs": [
    {
     "name": "stdout",
     "output_type": "stream",
     "text": [
      "Which Table you want12\n",
      "Till What You Want12\n",
      "12 X 1 = 12\n",
      "12 X 2 = 24\n",
      "12 X 3 = 36\n",
      "12 X 4 = 48\n",
      "12 X 5 = 60\n",
      "12 X 6 = 72\n",
      "12 X 7 = 84\n",
      "12 X 8 = 96\n",
      "12 X 9 = 108\n",
      "12 X 10 = 120\n",
      "12 X 11 = 132\n",
      "12 X 12 = 144\n"
     ]
    }
   ],
   "source": [
    "t= int(input(\"Which Table you want\"))\n",
    "n =int(input(\"Till What You Want\"))\n",
    "for i in range(20):\n",
    "    print(t, \"X\", i+1, \"=\" , t*(i+1))\n",
    "    if (i+1 == n):\n",
    "        break  # Break - Exit from the whole loop\n",
    "               # Continue - Exit From the iteration"
   ]
  },
  {
   "cell_type": "code",
   "execution_count": 12,
   "id": "5e857062",
   "metadata": {},
   "outputs": [
    {
     "name": "stdout",
     "output_type": "stream",
     "text": [
      "Which Table you want10\n",
      "Enter a skip value3\n",
      "10 X 1 = 10\n",
      "10 X 2 = 20\n",
      "\n",
      "10 X 4 = 40\n",
      "10 X 5 = 50\n",
      "\n",
      "10 X 7 = 70\n",
      "10 X 8 = 80\n",
      "\n",
      "10 X 10 = 100\n",
      "10 X 11 = 110\n",
      "\n",
      "10 X 13 = 130\n",
      "10 X 14 = 140\n",
      "\n",
      "10 X 16 = 160\n",
      "10 X 17 = 170\n",
      "\n",
      "10 X 19 = 190\n",
      "10 X 20 = 200\n"
     ]
    }
   ],
   "source": [
    "t= int(input(\"Which Table you want\"))\n",
    "s= int(input(\"Enter a skip value\"))\n",
    "for i in range(20):\n",
    "    if ((i+1) % s == 0 ):\n",
    "        print(\"\")\n",
    "        continue          #Breaks the iteration\n",
    "    print(t, \"X\", i+1, \"=\" , t*(i+1))\n"
   ]
  },
  {
   "cell_type": "markdown",
   "id": "21c73070",
   "metadata": {},
   "source": [
    "Day 20 - https://replit.com/@codewithharry/20-Day20-Functions"
   ]
  },
  {
   "cell_type": "markdown",
   "id": "3ed8dffe",
   "metadata": {},
   "source": [
    "Functions - Create a function using the def keyword, followed by a function name, followed by a paranthesis (()) and a colon(:)."
   ]
  },
  {
   "cell_type": "code",
   "execution_count": 19,
   "id": "e761b9e4",
   "metadata": {},
   "outputs": [
    {
     "name": "stdout",
     "output_type": "stream",
     "text": [
      "102 is Bigger\n",
      "None\n",
      "20 is Bigger\n"
     ]
    }
   ],
   "source": [
    "def Bignum(a,b):  #User defined function\n",
    "    if a>b:\n",
    "        print(a,\"is Bigger\")\n",
    "    elif a<b:\n",
    "        print(b,\"is Bigger\")\n",
    "    else:\n",
    "        print(\"Both are Same\")\n",
    "\n",
    "B= Bignum(102,2)\n",
    "print(B)\n",
    "\n",
    "c= 10\n",
    "d= 20\n",
    "Bignum(c,d)"
   ]
  },
  {
   "cell_type": "code",
   "execution_count": 18,
   "id": "4b8634e1",
   "metadata": {},
   "outputs": [],
   "source": [
    "#If Programmer wants to write the function of code later he can use pass in the body of code\n",
    "def isEven():\n",
    "    pass"
   ]
  },
  {
   "cell_type": "code",
   "execution_count": 20,
   "id": "659f4151",
   "metadata": {
    "scrolled": false
   },
   "outputs": [
    {
     "name": "stdout",
     "output_type": "stream",
     "text": [
      "Function\tDescription \n",
      "abs()\tReturns the absolute value of a number\n",
      "all()\tReturns True if all items in an iterable object are true\n",
      "any()\tReturns True if any item in an iterable object is true\n",
      "ascii()\tReturns a readable version of an object. Replaces none-ascii characters with escape character\n",
      "bin()\tReturns the binary version of a number\n",
      "bool()\tReturns the boolean value of the specified object\n",
      "bytearray()\tReturns an array of bytes\n",
      "bytes()\tReturns a bytes object\n",
      "callable()\tReturns True if the specified object is callable, otherwise False\n",
      "chr()\tReturns a character from the specified Unicode code.\n",
      "classmethod()\tConverts a method into a class method\n",
      "compile()\tReturns the specified source as an object, ready to be executed\n",
      "complex()\tReturns a complex number\n",
      "delattr()\tDeletes the specified attribute (property or method) from the specified object\n",
      "dict()\tReturns a dictionary (Array)\n",
      "dir()\tReturns a list of the specified object's properties and methods\n",
      "divmod()\tReturns the quotient and the remainder when argument1 is divided by argument2\n",
      "enumerate()\tTakes a collection (e.g. a tuple) and returns it as an enumerate object\n",
      "eval()\tEvaluates and executes an expression\n",
      "exec()\tExecutes the specified code (or object)\n",
      "filter()\tUse a filter function to exclude items in an iterable object\n",
      "float()\tReturns a floating point number\n",
      "format()\tFormats a specified value\n",
      "frozenset()\tReturns a frozenset object\n",
      "getattr()\tReturns the value of the specified attribute (property or method)\n",
      "globals()\tReturns the current global symbol table as a dictionary\n",
      "hasattr()\tReturns True if the specified object has the specified attribute (property/method)\n",
      "hash()\tReturns the hash value of a specified object\n",
      "help()\tExecutes the built-in help system\n",
      "hex()\tConverts a number into a hexadecimal value\n",
      "id()\tReturns the id of an object\n",
      "input()\tAllowing user input\n",
      "int()\tReturns an integer number\n",
      "isinstance()\tReturns True if a specified object is an instance of a specified object\n",
      "issubclass()\tReturns True if a specified class is a subclass of a specified object\n",
      "iter()\tReturns an iterator object\n",
      "len()\tReturns the length of an object\n",
      "list()\tReturns a list\n",
      "locals()\tReturns an updated dictionary of the current local symbol table\n",
      "map()\tReturns the specified iterator with the specified function applied to each item\n",
      "max()\tReturns the largest item in an iterable\n",
      "memoryview()\tReturns a memory view object\n",
      "min()\tReturns the smallest item in an iterable\n",
      "next()\tReturns the next item in an iterable\n",
      "object()\tReturns a new object\n",
      "oct()\tConverts a number into an octal\n",
      "open()\tOpens a file and returns a file object\n",
      "ord()\tConvert an integer representing the Unicode of the specified character\n",
      "pow()\tReturns the value of x to the power of y\n",
      "print()\tPrints to the standard output device\n",
      "property()\tGets, sets, deletes a property\n",
      "range()\tReturns a sequence of numbers, starting from 0 and increments by 1 (by default)\n",
      "repr()\tReturns a readable version of an object\n",
      "reversed()\tReturns a reversed iterator\n",
      "round()\tRounds a numbers\n",
      "set()\tReturns a new set object\n",
      "setattr()\tSets an attribute (property/method) of an object\n",
      "slice()\tReturns a slice object\n",
      "sorted()\tReturns a sorted list\n",
      "staticmethod()\tConverts a method into a static method\n",
      "str()\tReturns a string object\n",
      "sum()\tSums the items of an iterator\n",
      "super()\tReturns an object that represents the parent class\n",
      "tuple()\tReturns a tuple\n",
      "type()\tReturns the type of an object\n",
      "vars()\tReturns the __dict__ property of an object\n",
      "zip()\tReturns an iterator, from two or more iterators\n",
      "\n"
     ]
    }
   ],
   "source": [
    "#Buildin Functions\n",
    "bfn = \"\"\"Function\tDescription \n",
    "abs()\tReturns the absolute value of a number\n",
    "all()\tReturns True if all items in an iterable object are true\n",
    "any()\tReturns True if any item in an iterable object is true\n",
    "ascii()\tReturns a readable version of an object. Replaces none-ascii characters with escape character\n",
    "bin()\tReturns the binary version of a number\n",
    "bool()\tReturns the boolean value of the specified object\n",
    "bytearray()\tReturns an array of bytes\n",
    "bytes()\tReturns a bytes object\n",
    "callable()\tReturns True if the specified object is callable, otherwise False\n",
    "chr()\tReturns a character from the specified Unicode code.\n",
    "classmethod()\tConverts a method into a class method\n",
    "compile()\tReturns the specified source as an object, ready to be executed\n",
    "complex()\tReturns a complex number\n",
    "delattr()\tDeletes the specified attribute (property or method) from the specified object\n",
    "dict()\tReturns a dictionary (Array)\n",
    "dir()\tReturns a list of the specified object's properties and methods\n",
    "divmod()\tReturns the quotient and the remainder when argument1 is divided by argument2\n",
    "enumerate()\tTakes a collection (e.g. a tuple) and returns it as an enumerate object\n",
    "eval()\tEvaluates and executes an expression\n",
    "exec()\tExecutes the specified code (or object)\n",
    "filter()\tUse a filter function to exclude items in an iterable object\n",
    "float()\tReturns a floating point number\n",
    "format()\tFormats a specified value\n",
    "frozenset()\tReturns a frozenset object\n",
    "getattr()\tReturns the value of the specified attribute (property or method)\n",
    "globals()\tReturns the current global symbol table as a dictionary\n",
    "hasattr()\tReturns True if the specified object has the specified attribute (property/method)\n",
    "hash()\tReturns the hash value of a specified object\n",
    "help()\tExecutes the built-in help system\n",
    "hex()\tConverts a number into a hexadecimal value\n",
    "id()\tReturns the id of an object\n",
    "input()\tAllowing user input\n",
    "int()\tReturns an integer number\n",
    "isinstance()\tReturns True if a specified object is an instance of a specified object\n",
    "issubclass()\tReturns True if a specified class is a subclass of a specified object\n",
    "iter()\tReturns an iterator object\n",
    "len()\tReturns the length of an object\n",
    "list()\tReturns a list\n",
    "locals()\tReturns an updated dictionary of the current local symbol table\n",
    "map()\tReturns the specified iterator with the specified function applied to each item\n",
    "max()\tReturns the largest item in an iterable\n",
    "memoryview()\tReturns a memory view object\n",
    "min()\tReturns the smallest item in an iterable\n",
    "next()\tReturns the next item in an iterable\n",
    "object()\tReturns a new object\n",
    "oct()\tConverts a number into an octal\n",
    "open()\tOpens a file and returns a file object\n",
    "ord()\tConvert an integer representing the Unicode of the specified character\n",
    "pow()\tReturns the value of x to the power of y\n",
    "print()\tPrints to the standard output device\n",
    "property()\tGets, sets, deletes a property\n",
    "range()\tReturns a sequence of numbers, starting from 0 and increments by 1 (by default)\n",
    "repr()\tReturns a readable version of an object\n",
    "reversed()\tReturns a reversed iterator\n",
    "round()\tRounds a numbers\n",
    "set()\tReturns a new set object\n",
    "setattr()\tSets an attribute (property/method) of an object\n",
    "slice()\tReturns a slice object\n",
    "sorted()\tReturns a sorted list\n",
    "staticmethod()\tConverts a method into a static method\n",
    "str()\tReturns a string object\n",
    "sum()\tSums the items of an iterator\n",
    "super()\tReturns an object that represents the parent class\n",
    "tuple()\tReturns a tuple\n",
    "type()\tReturns the type of an object\n",
    "vars()\tReturns the __dict__ property of an object\n",
    "zip()\tReturns an iterator, from two or more iterators\n",
    "\"\"\"\n",
    "print(bfn)"
   ]
  },
  {
   "cell_type": "code",
   "execution_count": 10,
   "id": "ed9674ee",
   "metadata": {},
   "outputs": [
    {
     "name": "stdout",
     "output_type": "stream",
     "text": [
      "enter num738\n",
      "enter num29347\n",
      "\n",
      "ADD\n",
      "SUB\n",
      "MUL\n",
      "DIV\n",
      "Enter Operation - div\n",
      "0.07895581469990372\n"
     ]
    }
   ],
   "source": [
    "def add(a,b):\n",
    "    return a+b\n",
    "def sub(a,b):\n",
    "    return a-b\n",
    "def mul(a,b):\n",
    "    return a*b\n",
    "def div(a,b):\n",
    "    return a/b\n",
    "x = int(input(\"enter num\"))\n",
    "y = int(input(\"enter num2\"))\n",
    "print('''\n",
    "ADD\n",
    "SUB\n",
    "MUL\n",
    "DIV''')\n",
    "op =input(\"Enter Operation - \").upper()\n",
    "if op == \"ADD\":\n",
    "    z=add(x,y)\n",
    "elif op == \"SUB\":\n",
    "    z=sub(x,y)\n",
    "elif op == \"MUL\":\n",
    "    z=mul(x,y)\n",
    "elif op ==\"DIV\":\n",
    "    z=div(x,y)\n",
    "else:\n",
    "    print(\"Wrong Input\")\n",
    "print(z)"
   ]
  },
  {
   "cell_type": "markdown",
   "id": "984b7411",
   "metadata": {},
   "source": [
    "Day 21 - https://replit.com/@codewithharry/21-Day-21-Function-Arguments"
   ]
  },
  {
   "cell_type": "code",
   "execution_count": null,
   "id": "f57123af",
   "metadata": {},
   "outputs": [],
   "source": []
  }
 ],
 "metadata": {
  "kernelspec": {
   "display_name": "Python 3 (ipykernel)",
   "language": "python",
   "name": "python3"
  },
  "language_info": {
   "codemirror_mode": {
    "name": "ipython",
    "version": 3
   },
   "file_extension": ".py",
   "mimetype": "text/x-python",
   "name": "python",
   "nbconvert_exporter": "python",
   "pygments_lexer": "ipython3",
   "version": "3.9.13"
  }
 },
 "nbformat": 4,
 "nbformat_minor": 5
}
